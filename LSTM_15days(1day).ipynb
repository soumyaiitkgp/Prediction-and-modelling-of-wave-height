{
  "nbformat": 4,
  "nbformat_minor": 0,
  "metadata": {
    "colab": {
      "name": "LSTM_15days(1day).ipynb",
      "version": "0.3.2",
      "provenance": [],
      "include_colab_link": true
    },
    "kernelspec": {
      "name": "python3",
      "display_name": "Python 3"
    },
    "accelerator": "GPU"
  },
  "cells": [
    {
      "cell_type": "markdown",
      "metadata": {
        "id": "view-in-github",
        "colab_type": "text"
      },
      "source": [
        "<a href=\"https://colab.research.google.com/github/soumyaiitkgp/Prediction-and-modelling-of-wave-height/blob/master/LSTM_15days(1day).ipynb\" target=\"_parent\"><img src=\"https://colab.research.google.com/assets/colab-badge.svg\" alt=\"Open In Colab\"/></a>"
      ]
    },
    {
      "cell_type": "code",
      "metadata": {
        "id": "zTjwl4MtjP_K",
        "colab_type": "code",
        "outputId": "0fdf095c-19c8-45c9-b5d3-46baa2433bc1",
        "colab": {
          "base_uri": "https://localhost:8080/",
          "height": 34
        }
      },
      "source": [
        "import pandas as pd\n",
        "import sklearn\n",
        "import numpy as np\n",
        "import matplotlib.pyplot as plt\n",
        "from tqdm import tqdm_notebook\n",
        "from sklearn.preprocessing import MinMaxScaler\n",
        "from keras.models import Sequential\n",
        "from keras.layers import Dense, Activation\n",
        "from keras.layers import Dense, Dropout\n",
        "from keras.layers import Embedding\n",
        "from keras.layers import LSTM\n",
        "from keras import optimizers\n",
        "from keras.callbacks import CSVLogger\n",
        "import os\n",
        "import logging\n",
        "import time\n",
        "from sklearn.model_selection import train_test_split\n",
        "from sklearn.datasets import load_iris"
      ],
      "execution_count": 2,
      "outputs": [
        {
          "output_type": "stream",
          "text": [
            "Using TensorFlow backend.\n"
          ],
          "name": "stderr"
        }
      ]
    },
    {
      "cell_type": "code",
      "metadata": {
        "id": "Zw7EFj1TjOr-",
        "colab_type": "code",
        "colab": {}
      },
      "source": [
        "os.environ['TF_CPP_MIN_LOG_LEVEL'] = '2'\n",
        "logging.getLogger(\"tensorflow\").setLevel(logging.ERROR)\n",
        "os.environ['TZ'] = 'Asia/Mumbai'  # to set timezone; needed when running on cloud\n",
        "time.tzset()"
      ],
      "execution_count": 0,
      "outputs": []
    },
    {
      "cell_type": "code",
      "metadata": {
        "id": "6vf408A9kTxk",
        "colab_type": "code",
        "outputId": "12779e27-a4df-4201-bf22-768389d61072",
        "colab": {
          "resources": {
            "http://localhost:8080/nbextensions/google.colab/files.js": {
              "data": "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",
              "ok": true,
              "headers": [
                [
                  "content-type",
                  "application/javascript"
                ]
              ],
              "status": 200,
              "status_text": ""
            }
          },
          "base_uri": "https://localhost:8080/",
          "height": 74
        }
      },
      "source": [
        "from google.colab import files\n",
        "uploaded = files.upload()"
      ],
      "execution_count": 4,
      "outputs": [
        {
          "output_type": "display_data",
          "data": {
            "text/html": [
              "\n",
              "     <input type=\"file\" id=\"files-9970485e-1938-4b68-abae-38b54a770c3d\" name=\"files[]\" multiple disabled />\n",
              "     <output id=\"result-9970485e-1938-4b68-abae-38b54a770c3d\">\n",
              "      Upload widget is only available when the cell has been executed in the\n",
              "      current browser session. Please rerun this cell to enable.\n",
              "      </output>\n",
              "      <script src=\"/nbextensions/google.colab/files.js\"></script> "
            ],
            "text/plain": [
              "<IPython.core.display.HTML object>"
            ]
          },
          "metadata": {
            "tags": []
          }
        },
        {
          "output_type": "stream",
          "text": [
            "Saving mehamn_data.csv to mehamn_data.csv\n"
          ],
          "name": "stdout"
        }
      ]
    },
    {
      "cell_type": "code",
      "metadata": {
        "id": "czmWXv99k7R6",
        "colab_type": "code",
        "outputId": "a72fc2ca-9b2d-4c97-fdaf-c88772430e63",
        "colab": {
          "base_uri": "https://localhost:8080/",
          "height": 232
        }
      },
      "source": [
        "data = pd.read_csv('mehamn_data.csv', engine = 'python')\n",
        "print(data.shape)\n",
        "data.head()"
      ],
      "execution_count": 5,
      "outputs": [
        {
          "output_type": "stream",
          "text": [
            "(174581, 18)\n"
          ],
          "name": "stdout"
        },
        {
          "output_type": "execute_result",
          "data": {
            "text/html": [
              "<div>\n",
              "<style scoped>\n",
              "    .dataframe tbody tr th:only-of-type {\n",
              "        vertical-align: middle;\n",
              "    }\n",
              "\n",
              "    .dataframe tbody tr th {\n",
              "        vertical-align: top;\n",
              "    }\n",
              "\n",
              "    .dataframe thead th {\n",
              "        text-align: right;\n",
              "    }\n",
              "</style>\n",
              "<table border=\"1\" class=\"dataframe\">\n",
              "  <thead>\n",
              "    <tr style=\"text-align: right;\">\n",
              "      <th></th>\n",
              "      <th>Num</th>\n",
              "      <th>YEAR</th>\n",
              "      <th>Month</th>\n",
              "      <th>Day</th>\n",
              "      <th>Hour</th>\n",
              "      <th>wind_WSP</th>\n",
              "      <th>wind_DIR</th>\n",
              "      <th>total_sea_HS</th>\n",
              "      <th>total_sea_TP</th>\n",
              "      <th>total_sea_TM</th>\n",
              "      <th>total_sea_DIRP</th>\n",
              "      <th>total_sea_DIRM</th>\n",
              "      <th>wind_sea_HS</th>\n",
              "      <th>wind_sea_TP</th>\n",
              "      <th>wind_sea_DIRP</th>\n",
              "      <th>swell_HS</th>\n",
              "      <th>swell_TP</th>\n",
              "      <th>swell_DIRP</th>\n",
              "    </tr>\n",
              "  </thead>\n",
              "  <tbody>\n",
              "    <tr>\n",
              "      <th>0</th>\n",
              "      <td>0</td>\n",
              "      <td>1957</td>\n",
              "      <td>9</td>\n",
              "      <td>1</td>\n",
              "      <td>6</td>\n",
              "      <td>3.0</td>\n",
              "      <td>313</td>\n",
              "      <td>0.8</td>\n",
              "      <td>5.2</td>\n",
              "      <td>4.5</td>\n",
              "      <td>310</td>\n",
              "      <td>307</td>\n",
              "      <td>0.1</td>\n",
              "      <td>0.0</td>\n",
              "      <td>242</td>\n",
              "      <td>0.8</td>\n",
              "      <td>5.2</td>\n",
              "      <td>310</td>\n",
              "    </tr>\n",
              "    <tr>\n",
              "      <th>1</th>\n",
              "      <td>1</td>\n",
              "      <td>1957</td>\n",
              "      <td>9</td>\n",
              "      <td>1</td>\n",
              "      <td>9</td>\n",
              "      <td>2.0</td>\n",
              "      <td>321</td>\n",
              "      <td>0.8</td>\n",
              "      <td>5.2</td>\n",
              "      <td>4.7</td>\n",
              "      <td>310</td>\n",
              "      <td>318</td>\n",
              "      <td>0.1</td>\n",
              "      <td>0.0</td>\n",
              "      <td>242</td>\n",
              "      <td>0.8</td>\n",
              "      <td>5.2</td>\n",
              "      <td>310</td>\n",
              "    </tr>\n",
              "    <tr>\n",
              "      <th>2</th>\n",
              "      <td>2</td>\n",
              "      <td>1957</td>\n",
              "      <td>9</td>\n",
              "      <td>1</td>\n",
              "      <td>12</td>\n",
              "      <td>1.4</td>\n",
              "      <td>337</td>\n",
              "      <td>0.8</td>\n",
              "      <td>5.2</td>\n",
              "      <td>4.8</td>\n",
              "      <td>325</td>\n",
              "      <td>324</td>\n",
              "      <td>0.1</td>\n",
              "      <td>0.0</td>\n",
              "      <td>242</td>\n",
              "      <td>0.7</td>\n",
              "      <td>5.2</td>\n",
              "      <td>325</td>\n",
              "    </tr>\n",
              "    <tr>\n",
              "      <th>3</th>\n",
              "      <td>3</td>\n",
              "      <td>1957</td>\n",
              "      <td>9</td>\n",
              "      <td>1</td>\n",
              "      <td>15</td>\n",
              "      <td>2.2</td>\n",
              "      <td>44</td>\n",
              "      <td>0.7</td>\n",
              "      <td>5.2</td>\n",
              "      <td>4.9</td>\n",
              "      <td>325</td>\n",
              "      <td>326</td>\n",
              "      <td>0.1</td>\n",
              "      <td>0.0</td>\n",
              "      <td>242</td>\n",
              "      <td>0.7</td>\n",
              "      <td>5.2</td>\n",
              "      <td>325</td>\n",
              "    </tr>\n",
              "    <tr>\n",
              "      <th>4</th>\n",
              "      <td>4</td>\n",
              "      <td>1957</td>\n",
              "      <td>9</td>\n",
              "      <td>1</td>\n",
              "      <td>18</td>\n",
              "      <td>2.7</td>\n",
              "      <td>107</td>\n",
              "      <td>0.7</td>\n",
              "      <td>5.2</td>\n",
              "      <td>4.9</td>\n",
              "      <td>325</td>\n",
              "      <td>327</td>\n",
              "      <td>0.1</td>\n",
              "      <td>0.0</td>\n",
              "      <td>242</td>\n",
              "      <td>0.7</td>\n",
              "      <td>5.2</td>\n",
              "      <td>325</td>\n",
              "    </tr>\n",
              "  </tbody>\n",
              "</table>\n",
              "</div>"
            ],
            "text/plain": [
              "   Num  YEAR  Month  Day  ...  wind_sea_DIRP  swell_HS  swell_TP  swell_DIRP\\t\n",
              "0    0  1957      9    1  ...            242       0.8       5.2           310\n",
              "1    1  1957      9    1  ...            242       0.8       5.2           310\n",
              "2    2  1957      9    1  ...            242       0.7       5.2           325\n",
              "3    3  1957      9    1  ...            242       0.7       5.2           325\n",
              "4    4  1957      9    1  ...            242       0.7       5.2           325\n",
              "\n",
              "[5 rows x 18 columns]"
            ]
          },
          "metadata": {
            "tags": []
          },
          "execution_count": 5
        }
      ]
    },
    {
      "cell_type": "code",
      "metadata": {
        "id": "Nwbt_daglVld",
        "colab_type": "code",
        "colab": {}
      },
      "source": [
        "params = {\n",
        "    \"batch_size\": 240, #processing the information for 15 days at once\n",
        "    \"epochs\": 100,\n",
        "    \"lr\": 0.0001,\n",
        "    \"time_steps\": 56 #prediction for one week\n",
        "}\n",
        "\n",
        "iter_changes = \"dropout_layers_0.4_0.4\"\n",
        "\n",
        "TIME_STEPS = params[\"time_steps\"]\n",
        "BATCH_SIZE = params[\"batch_size\"]"
      ],
      "execution_count": 0,
      "outputs": []
    },
    {
      "cell_type": "code",
      "metadata": {
        "id": "H1Z71Bn8lZKM",
        "colab_type": "code",
        "outputId": "f796517f-3e5f-4c79-ce2a-97b47826406e",
        "colab": {
          "base_uri": "https://localhost:8080/",
          "height": 319
        }
      },
      "source": [
        "for col in data.columns:\n",
        "    print(col)"
      ],
      "execution_count": 7,
      "outputs": [
        {
          "output_type": "stream",
          "text": [
            "Num\n",
            "YEAR\n",
            "Month\n",
            "Day\n",
            "Hour\n",
            "wind_WSP\n",
            "wind_DIR\n",
            "total_sea_HS\n",
            "total_sea_TP\n",
            "total_sea_TM\n",
            "total_sea_DIRP\n",
            "total_sea_DIRM\n",
            "wind_sea_HS\n",
            "wind_sea_TP\n",
            "wind_sea_DIRP\n",
            "swell_HS\n",
            "swell_TP\n",
            "swell_DIRP\t\n"
          ],
          "name": "stdout"
        }
      ]
    },
    {
      "cell_type": "code",
      "metadata": {
        "id": "sEDBnXh-ldOO",
        "colab_type": "code",
        "colab": {}
      },
      "source": [
        "d = data"
      ],
      "execution_count": 0,
      "outputs": []
    },
    {
      "cell_type": "code",
      "metadata": {
        "id": "J-ynuolWlfi0",
        "colab_type": "code",
        "outputId": "5ff1b6c0-4de6-4d65-9d5a-d04ff866c3bb",
        "colab": {
          "base_uri": "https://localhost:8080/",
          "height": 232
        }
      },
      "source": [
        "d_train,d_test = train_test_split(d,test_size=0.2, shuffle = False)\n",
        "print(d_train.shape, d_test.shape)\n",
        "d_train.head()"
      ],
      "execution_count": 9,
      "outputs": [
        {
          "output_type": "stream",
          "text": [
            "(139664, 18) (34917, 18)\n"
          ],
          "name": "stdout"
        },
        {
          "output_type": "execute_result",
          "data": {
            "text/html": [
              "<div>\n",
              "<style scoped>\n",
              "    .dataframe tbody tr th:only-of-type {\n",
              "        vertical-align: middle;\n",
              "    }\n",
              "\n",
              "    .dataframe tbody tr th {\n",
              "        vertical-align: top;\n",
              "    }\n",
              "\n",
              "    .dataframe thead th {\n",
              "        text-align: right;\n",
              "    }\n",
              "</style>\n",
              "<table border=\"1\" class=\"dataframe\">\n",
              "  <thead>\n",
              "    <tr style=\"text-align: right;\">\n",
              "      <th></th>\n",
              "      <th>Num</th>\n",
              "      <th>YEAR</th>\n",
              "      <th>Month</th>\n",
              "      <th>Day</th>\n",
              "      <th>Hour</th>\n",
              "      <th>wind_WSP</th>\n",
              "      <th>wind_DIR</th>\n",
              "      <th>total_sea_HS</th>\n",
              "      <th>total_sea_TP</th>\n",
              "      <th>total_sea_TM</th>\n",
              "      <th>total_sea_DIRP</th>\n",
              "      <th>total_sea_DIRM</th>\n",
              "      <th>wind_sea_HS</th>\n",
              "      <th>wind_sea_TP</th>\n",
              "      <th>wind_sea_DIRP</th>\n",
              "      <th>swell_HS</th>\n",
              "      <th>swell_TP</th>\n",
              "      <th>swell_DIRP</th>\n",
              "    </tr>\n",
              "  </thead>\n",
              "  <tbody>\n",
              "    <tr>\n",
              "      <th>0</th>\n",
              "      <td>0</td>\n",
              "      <td>1957</td>\n",
              "      <td>9</td>\n",
              "      <td>1</td>\n",
              "      <td>6</td>\n",
              "      <td>3.0</td>\n",
              "      <td>313</td>\n",
              "      <td>0.8</td>\n",
              "      <td>5.2</td>\n",
              "      <td>4.5</td>\n",
              "      <td>310</td>\n",
              "      <td>307</td>\n",
              "      <td>0.1</td>\n",
              "      <td>0.0</td>\n",
              "      <td>242</td>\n",
              "      <td>0.8</td>\n",
              "      <td>5.2</td>\n",
              "      <td>310</td>\n",
              "    </tr>\n",
              "    <tr>\n",
              "      <th>1</th>\n",
              "      <td>1</td>\n",
              "      <td>1957</td>\n",
              "      <td>9</td>\n",
              "      <td>1</td>\n",
              "      <td>9</td>\n",
              "      <td>2.0</td>\n",
              "      <td>321</td>\n",
              "      <td>0.8</td>\n",
              "      <td>5.2</td>\n",
              "      <td>4.7</td>\n",
              "      <td>310</td>\n",
              "      <td>318</td>\n",
              "      <td>0.1</td>\n",
              "      <td>0.0</td>\n",
              "      <td>242</td>\n",
              "      <td>0.8</td>\n",
              "      <td>5.2</td>\n",
              "      <td>310</td>\n",
              "    </tr>\n",
              "    <tr>\n",
              "      <th>2</th>\n",
              "      <td>2</td>\n",
              "      <td>1957</td>\n",
              "      <td>9</td>\n",
              "      <td>1</td>\n",
              "      <td>12</td>\n",
              "      <td>1.4</td>\n",
              "      <td>337</td>\n",
              "      <td>0.8</td>\n",
              "      <td>5.2</td>\n",
              "      <td>4.8</td>\n",
              "      <td>325</td>\n",
              "      <td>324</td>\n",
              "      <td>0.1</td>\n",
              "      <td>0.0</td>\n",
              "      <td>242</td>\n",
              "      <td>0.7</td>\n",
              "      <td>5.2</td>\n",
              "      <td>325</td>\n",
              "    </tr>\n",
              "    <tr>\n",
              "      <th>3</th>\n",
              "      <td>3</td>\n",
              "      <td>1957</td>\n",
              "      <td>9</td>\n",
              "      <td>1</td>\n",
              "      <td>15</td>\n",
              "      <td>2.2</td>\n",
              "      <td>44</td>\n",
              "      <td>0.7</td>\n",
              "      <td>5.2</td>\n",
              "      <td>4.9</td>\n",
              "      <td>325</td>\n",
              "      <td>326</td>\n",
              "      <td>0.1</td>\n",
              "      <td>0.0</td>\n",
              "      <td>242</td>\n",
              "      <td>0.7</td>\n",
              "      <td>5.2</td>\n",
              "      <td>325</td>\n",
              "    </tr>\n",
              "    <tr>\n",
              "      <th>4</th>\n",
              "      <td>4</td>\n",
              "      <td>1957</td>\n",
              "      <td>9</td>\n",
              "      <td>1</td>\n",
              "      <td>18</td>\n",
              "      <td>2.7</td>\n",
              "      <td>107</td>\n",
              "      <td>0.7</td>\n",
              "      <td>5.2</td>\n",
              "      <td>4.9</td>\n",
              "      <td>325</td>\n",
              "      <td>327</td>\n",
              "      <td>0.1</td>\n",
              "      <td>0.0</td>\n",
              "      <td>242</td>\n",
              "      <td>0.7</td>\n",
              "      <td>5.2</td>\n",
              "      <td>325</td>\n",
              "    </tr>\n",
              "  </tbody>\n",
              "</table>\n",
              "</div>"
            ],
            "text/plain": [
              "   Num  YEAR  Month  Day  ...  wind_sea_DIRP  swell_HS  swell_TP  swell_DIRP\\t\n",
              "0    0  1957      9    1  ...            242       0.8       5.2           310\n",
              "1    1  1957      9    1  ...            242       0.8       5.2           310\n",
              "2    2  1957      9    1  ...            242       0.7       5.2           325\n",
              "3    3  1957      9    1  ...            242       0.7       5.2           325\n",
              "4    4  1957      9    1  ...            242       0.7       5.2           325\n",
              "\n",
              "[5 rows x 18 columns]"
            ]
          },
          "metadata": {
            "tags": []
          },
          "execution_count": 9
        }
      ]
    },
    {
      "cell_type": "code",
      "metadata": {
        "id": "goT24ykLlgBe",
        "colab_type": "code",
        "outputId": "1898ec25-362a-4a4d-e4b4-ee03bec478e1",
        "colab": {
          "base_uri": "https://localhost:8080/",
          "height": 232
        }
      },
      "source": [
        "print(d_test.shape)\n",
        "d_test.head()"
      ],
      "execution_count": 10,
      "outputs": [
        {
          "output_type": "stream",
          "text": [
            "(34917, 18)\n"
          ],
          "name": "stdout"
        },
        {
          "output_type": "execute_result",
          "data": {
            "text/html": [
              "<div>\n",
              "<style scoped>\n",
              "    .dataframe tbody tr th:only-of-type {\n",
              "        vertical-align: middle;\n",
              "    }\n",
              "\n",
              "    .dataframe tbody tr th {\n",
              "        vertical-align: top;\n",
              "    }\n",
              "\n",
              "    .dataframe thead th {\n",
              "        text-align: right;\n",
              "    }\n",
              "</style>\n",
              "<table border=\"1\" class=\"dataframe\">\n",
              "  <thead>\n",
              "    <tr style=\"text-align: right;\">\n",
              "      <th></th>\n",
              "      <th>Num</th>\n",
              "      <th>YEAR</th>\n",
              "      <th>Month</th>\n",
              "      <th>Day</th>\n",
              "      <th>Hour</th>\n",
              "      <th>wind_WSP</th>\n",
              "      <th>wind_DIR</th>\n",
              "      <th>total_sea_HS</th>\n",
              "      <th>total_sea_TP</th>\n",
              "      <th>total_sea_TM</th>\n",
              "      <th>total_sea_DIRP</th>\n",
              "      <th>total_sea_DIRM</th>\n",
              "      <th>wind_sea_HS</th>\n",
              "      <th>wind_sea_TP</th>\n",
              "      <th>wind_sea_DIRP</th>\n",
              "      <th>swell_HS</th>\n",
              "      <th>swell_TP</th>\n",
              "      <th>swell_DIRP</th>\n",
              "    </tr>\n",
              "  </thead>\n",
              "  <tbody>\n",
              "    <tr>\n",
              "      <th>139664</th>\n",
              "      <td>139664</td>\n",
              "      <td>2005</td>\n",
              "      <td>6</td>\n",
              "      <td>19</td>\n",
              "      <td>6</td>\n",
              "      <td>6.1</td>\n",
              "      <td>113</td>\n",
              "      <td>0.9</td>\n",
              "      <td>6.9</td>\n",
              "      <td>4.7</td>\n",
              "      <td>55</td>\n",
              "      <td>62</td>\n",
              "      <td>0.4</td>\n",
              "      <td>3.6</td>\n",
              "      <td>100</td>\n",
              "      <td>0.8</td>\n",
              "      <td>6.9</td>\n",
              "      <td>55</td>\n",
              "    </tr>\n",
              "    <tr>\n",
              "      <th>139665</th>\n",
              "      <td>139665</td>\n",
              "      <td>2005</td>\n",
              "      <td>6</td>\n",
              "      <td>19</td>\n",
              "      <td>9</td>\n",
              "      <td>4.4</td>\n",
              "      <td>107</td>\n",
              "      <td>0.9</td>\n",
              "      <td>6.9</td>\n",
              "      <td>5.0</td>\n",
              "      <td>55</td>\n",
              "      <td>58</td>\n",
              "      <td>0.3</td>\n",
              "      <td>3.2</td>\n",
              "      <td>115</td>\n",
              "      <td>0.9</td>\n",
              "      <td>6.9</td>\n",
              "      <td>55</td>\n",
              "    </tr>\n",
              "    <tr>\n",
              "      <th>139666</th>\n",
              "      <td>139666</td>\n",
              "      <td>2005</td>\n",
              "      <td>6</td>\n",
              "      <td>19</td>\n",
              "      <td>12</td>\n",
              "      <td>2.7</td>\n",
              "      <td>105</td>\n",
              "      <td>0.9</td>\n",
              "      <td>6.9</td>\n",
              "      <td>5.4</td>\n",
              "      <td>55</td>\n",
              "      <td>55</td>\n",
              "      <td>0.1</td>\n",
              "      <td>0.0</td>\n",
              "      <td>242</td>\n",
              "      <td>0.8</td>\n",
              "      <td>6.9</td>\n",
              "      <td>55</td>\n",
              "    </tr>\n",
              "    <tr>\n",
              "      <th>139667</th>\n",
              "      <td>139667</td>\n",
              "      <td>2005</td>\n",
              "      <td>6</td>\n",
              "      <td>19</td>\n",
              "      <td>15</td>\n",
              "      <td>0.2</td>\n",
              "      <td>293</td>\n",
              "      <td>0.8</td>\n",
              "      <td>6.9</td>\n",
              "      <td>5.5</td>\n",
              "      <td>55</td>\n",
              "      <td>54</td>\n",
              "      <td>0.1</td>\n",
              "      <td>0.0</td>\n",
              "      <td>242</td>\n",
              "      <td>0.8</td>\n",
              "      <td>6.9</td>\n",
              "      <td>55</td>\n",
              "    </tr>\n",
              "    <tr>\n",
              "      <th>139668</th>\n",
              "      <td>139668</td>\n",
              "      <td>2005</td>\n",
              "      <td>6</td>\n",
              "      <td>19</td>\n",
              "      <td>18</td>\n",
              "      <td>2.7</td>\n",
              "      <td>275</td>\n",
              "      <td>0.8</td>\n",
              "      <td>6.9</td>\n",
              "      <td>5.6</td>\n",
              "      <td>55</td>\n",
              "      <td>53</td>\n",
              "      <td>0.1</td>\n",
              "      <td>0.0</td>\n",
              "      <td>242</td>\n",
              "      <td>0.8</td>\n",
              "      <td>6.9</td>\n",
              "      <td>55</td>\n",
              "    </tr>\n",
              "  </tbody>\n",
              "</table>\n",
              "</div>"
            ],
            "text/plain": [
              "           Num  YEAR  Month  ...  swell_HS  swell_TP  swell_DIRP\\t\n",
              "139664  139664  2005      6  ...       0.8       6.9            55\n",
              "139665  139665  2005      6  ...       0.9       6.9            55\n",
              "139666  139666  2005      6  ...       0.8       6.9            55\n",
              "139667  139667  2005      6  ...       0.8       6.9            55\n",
              "139668  139668  2005      6  ...       0.8       6.9            55\n",
              "\n",
              "[5 rows x 18 columns]"
            ]
          },
          "metadata": {
            "tags": []
          },
          "execution_count": 10
        }
      ]
    },
    {
      "cell_type": "code",
      "metadata": {
        "id": "Yl8qFaXXl3Ue",
        "colab_type": "code",
        "outputId": "b7ad1781-b90a-4ba9-f5ca-28dfdf90d96c",
        "colab": {
          "base_uri": "https://localhost:8080/",
          "height": 34
        }
      },
      "source": [
        "x_train = d_train\n",
        "x_test = d_test\n",
        "print(x_train.shape,x_test.shape)"
      ],
      "execution_count": 11,
      "outputs": [
        {
          "output_type": "stream",
          "text": [
            "(139664, 18) (34917, 18)\n"
          ],
          "name": "stdout"
        }
      ]
    },
    {
      "cell_type": "code",
      "metadata": {
        "id": "OY5RGotMl6Ad",
        "colab_type": "code",
        "outputId": "e138e049-1a33-4483-a870-05b67c19d947",
        "colab": {
          "base_uri": "https://localhost:8080/",
          "height": 269
        }
      },
      "source": [
        "plt.figure()\n",
        "plt.plot(x_train[\"total_sea_TP\"])\n",
        "plt.plot(x_train[\"total_sea_HS\"])\n",
        "plt.show()"
      ],
      "execution_count": 12,
      "outputs": [
        {
          "output_type": "display_data",
          "data": {
            "image/png": "[encoded data removed]",
            "text/plain": [
              "<Figure size 432x288 with 1 Axes>"
            ]
          },
          "metadata": {
            "tags": []
          }
        }
      ]
    },
    {
      "cell_type": "code",
      "metadata": {
        "id": "49nDgC__l6mU",
        "colab_type": "code",
        "colab": {}
      },
      "source": [
        "#train_cols = [\"Month\",\"Day\",\"Hour\", \"wind_WSP\",\"wind_DIR\",\"total_sea_TP\",\"total_sea_DIRP\",\"wind_sea_TP\",\"wind_sea_DIRP\",\"swell_TP\",\"swell_DIRP\"]\n",
        "min_max_scaler = MinMaxScaler()\n",
        "X_train = min_max_scaler.fit_transform(x_train)\n",
        "X_test = min_max_scaler.fit_transform(x_test)"
      ],
      "execution_count": 0,
      "outputs": []
    },
    {
      "cell_type": "code",
      "metadata": {
        "id": "ve0RUXV1l_IM",
        "colab_type": "code",
        "outputId": "308d43d4-ce9e-45b3-b06c-4a2561109639",
        "colab": {
          "base_uri": "https://localhost:8080/",
          "height": 286
        }
      },
      "source": [
        "type(X_train)\n",
        "print(X_train.shape)\n",
        "plt.figure()\n",
        "plt.plot(X_train[0:,8])\n",
        "plt.plot(X_train[0:,7])\n",
        "plt.show()"
      ],
      "execution_count": 14,
      "outputs": [
        {
          "output_type": "stream",
          "text": [
            "(139664, 18)\n"
          ],
          "name": "stdout"
        },
        {
          "output_type": "display_data",
          "data": {
            "image/png": "[encoded data removed]",
            "text/plain": [
              "<Figure size 432x288 with 1 Axes>"
            ]
          },
          "metadata": {
            "tags": []
          }
        }
      ]
    },
    {
      "cell_type": "code",
      "metadata": {
        "id": "Gss6oZNSl_qA",
        "colab_type": "code",
        "colab": {}
      },
      "source": [
        "def build_timeseries(mat, y_col_index):\n",
        "    # y_col_index is the index of column that would act as output column, here it will be 9\n",
        "    # total number of time-series samples would be len(mat) - TIME_STEPS\n",
        "    #TIME_STEPS = 8 for one day\n",
        "    #LSTMs consume input in format [ batch_size, time_steps, Features ]; a 3- dimensional array.\n",
        "    #So till now we have a matrix of shape (3, 5), 3 being the time step and 5 being the number of features\n",
        "    dim_0 = mat.shape[0] - TIME_STEPS\n",
        "    dim_1 = mat.shape[1]\n",
        "    x = np.zeros((dim_0, TIME_STEPS, dim_1))\n",
        "    y = np.zeros((dim_0,))\n",
        "    print(dim_0,mat.shape[0])\n",
        "    for i in tqdm_notebook(range(dim_0)):\n",
        "        #print(i)\n",
        "        x[i] = mat[i:TIME_STEPS+i]\n",
        "        #print(mat[TIME_STEPS+i, y_col_index])\n",
        "        y[i] = mat[TIME_STEPS+i, y_col_index]\n",
        "    print(\"length of time-series i/o\",x.shape,y.shape)\n",
        "    return x, y"
      ],
      "execution_count": 0,
      "outputs": []
    },
    {
      "cell_type": "code",
      "metadata": {
        "id": "kYfQ4ui7mBZZ",
        "colab_type": "code",
        "colab": {}
      },
      "source": [
        "def trim_dataset(mat, batch_size):\n",
        "    \"\"\"\n",
        "    trims dataset to a size that's divisible by BATCH_SIZE\n",
        "    \"\"\"\n",
        "    no_of_rows_drop = mat.shape[0]%batch_size\n",
        "    if(no_of_rows_drop > 0):\n",
        "        return mat[:-no_of_rows_drop]\n",
        "    else:\n",
        "        return mat"
      ],
      "execution_count": 0,
      "outputs": []
    },
    {
      "cell_type": "code",
      "metadata": {
        "id": "m0LHwgDrmDf0",
        "colab_type": "code",
        "outputId": "111deb6d-a5ba-4338-8dab-94206f9d2018",
        "colab": {
          "base_uri": "https://localhost:8080/",
          "height": 67
        }
      },
      "source": [
        "x_t, y_t = build_timeseries(X_train, 9)\n",
        "x_t = trim_dataset(x_t, BATCH_SIZE)\n",
        "y_t = trim_dataset(y_t, BATCH_SIZE)"
      ],
      "execution_count": 17,
      "outputs": [
        {
          "output_type": "stream",
          "text": [
            "139608 139664\n"
          ],
          "name": "stdout"
        },
        {
          "output_type": "display_data",
          "data": {
            "application/vnd.jupyter.widget-view+json": {
              "model_id": "7addf6c53aa143b2bc4c65579ee35d61",
              "version_minor": 0,
              "version_major": 2
            },
            "text/plain": [
              "HBox(children=(IntProgress(value=0, max=139608), HTML(value='')))"
            ]
          },
          "metadata": {
            "tags": []
          }
        },
        {
          "output_type": "stream",
          "text": [
            "\n",
            "length of time-series i/o (139608, 56, 18) (139608,)\n"
          ],
          "name": "stdout"
        }
      ]
    },
    {
      "cell_type": "code",
      "metadata": {
        "id": "20BGooE8mFNI",
        "colab_type": "code",
        "outputId": "9a3be25e-70ac-4c7f-d727-2857494afbfe",
        "colab": {
          "base_uri": "https://localhost:8080/",
          "height": 134
        }
      },
      "source": [
        "x_temp, y_temp = build_timeseries(X_test, 9)\n",
        "x_tt = trim_dataset(x_temp, BATCH_SIZE)\n",
        "y_tt = trim_dataset(y_temp, BATCH_SIZE)\n",
        "print(y_tt.shape)\n",
        "print(x_tt.shape)\n",
        "x_val, x_test_t = np.split(x_tt,2)\n",
        "y_val, y_test_t = np.split(y_tt,2)\n",
        "print(x_val.shape, x_test_t.shape)\n",
        "print(y_val.shape, y_test_t.shape)\n",
        "#x_val, x_test_t = np.split(trim_dataset(x_temp, BATCH_SIZE),2)\n",
        "#y_val, y_test_t = np.split(trim_dataset(y_temp, BATCH_SIZE),2)"
      ],
      "execution_count": 18,
      "outputs": [
        {
          "output_type": "stream",
          "text": [
            "34861 34917\n"
          ],
          "name": "stdout"
        },
        {
          "output_type": "display_data",
          "data": {
            "application/vnd.jupyter.widget-view+json": {
              "model_id": "e4dcb13c2b2841d3b333c090e606f36c",
              "version_minor": 0,
              "version_major": 2
            },
            "text/plain": [
              "HBox(children=(IntProgress(value=0, max=34861), HTML(value='')))"
            ]
          },
          "metadata": {
            "tags": []
          }
        },
        {
          "output_type": "stream",
          "text": [
            "\n",
            "length of time-series i/o (34861, 56, 18) (34861,)\n",
            "(34800,)\n",
            "(34800, 56, 18)\n",
            "(17400, 56, 18) (17400, 56, 18)\n",
            "(17400,) (17400,)\n"
          ],
          "name": "stdout"
        }
      ]
    },
    {
      "cell_type": "code",
      "metadata": {
        "id": "t601e8d9mIJX",
        "colab_type": "code",
        "colab": {}
      },
      "source": [
        "lstm_model = Sequential()\n",
        "lstm_model.add(LSTM(100, batch_input_shape=(BATCH_SIZE, TIME_STEPS, x_t.shape[2]), dropout=0.0, recurrent_dropout=0.0, stateful=True,     kernel_initializer='random_uniform'))\n",
        "lstm_model.add(Dropout(0.4))\n",
        "lstm_model.add(Dense(20,activation='relu'))\n",
        "lstm_model.add(Dense(1,activation='sigmoid'))\n",
        "optimizer = optimizers.Adam(lr=0.0001, beta_1=0.9, beta_2=0.999, epsilon=None, decay=0.0, amsgrad=False)\n",
        "lstm_model.compile(loss='mean_squared_error', optimizer=optimizer)"
      ],
      "execution_count": 0,
      "outputs": []
    },
    {
      "cell_type": "code",
      "metadata": {
        "id": "Lj9HGH5dmKLR",
        "colab_type": "code",
        "outputId": "adaf7dd0-3335-4c29-f1ac-b1cbb3ec3750",
        "colab": {
          "base_uri": "https://localhost:8080/",
          "height": 874
        }
      },
      "source": [
        "OUTPUT_PATH = \"D:\\Acads\\Saud sir\"\n",
        "csv_logger = CSVLogger(os.path.join(OUTPUT_PATH, 'your_log_name' + '.log'), append=True)\n",
        "\n",
        "history = lstm_model.fit(x_t, y_t, epochs=25, verbose=2, batch_size=BATCH_SIZE,\n",
        "                    shuffle=False, validation_data=(trim_dataset(x_val, BATCH_SIZE),\n",
        "                    trim_dataset(y_val, BATCH_SIZE)))#, callbacks=[csv_logger])"
      ],
      "execution_count": 20,
      "outputs": [
        {
          "output_type": "stream",
          "text": [
            "Train on 139440 samples, validate on 17280 samples\n",
            "Epoch 1/25\n",
            " - 44s - loss: 0.0165 - val_loss: 0.0219\n",
            "Epoch 2/25\n",
            " - 41s - loss: 0.0090 - val_loss: 0.0200\n",
            "Epoch 3/25\n",
            " - 43s - loss: 0.0072 - val_loss: 0.0165\n",
            "Epoch 4/25\n",
            " - 41s - loss: 0.0059 - val_loss: 0.0124\n",
            "Epoch 5/25\n",
            " - 41s - loss: 0.0048 - val_loss: 0.0096\n",
            "Epoch 6/25\n",
            " - 41s - loss: 0.0039 - val_loss: 0.0074\n",
            "Epoch 7/25\n",
            " - 41s - loss: 0.0032 - val_loss: 0.0058\n",
            "Epoch 8/25\n",
            " - 41s - loss: 0.0027 - val_loss: 0.0048\n",
            "Epoch 9/25\n",
            " - 41s - loss: 0.0024 - val_loss: 0.0038\n",
            "Epoch 10/25\n",
            " - 41s - loss: 0.0021 - val_loss: 0.0032\n",
            "Epoch 11/25\n",
            " - 41s - loss: 0.0019 - val_loss: 0.0029\n",
            "Epoch 12/25\n",
            " - 41s - loss: 0.0018 - val_loss: 0.0028\n",
            "Epoch 13/25\n",
            " - 41s - loss: 0.0016 - val_loss: 0.0024\n",
            "Epoch 14/25\n",
            " - 41s - loss: 0.0015 - val_loss: 0.0023\n",
            "Epoch 15/25\n",
            " - 41s - loss: 0.0014 - val_loss: 0.0023\n",
            "Epoch 16/25\n",
            " - 41s - loss: 0.0014 - val_loss: 0.0023\n",
            "Epoch 17/25\n",
            " - 41s - loss: 0.0013 - val_loss: 0.0022\n",
            "Epoch 18/25\n",
            " - 41s - loss: 0.0013 - val_loss: 0.0022\n",
            "Epoch 19/25\n",
            " - 41s - loss: 0.0012 - val_loss: 0.0021\n",
            "Epoch 20/25\n",
            " - 41s - loss: 0.0012 - val_loss: 0.0020\n",
            "Epoch 21/25\n",
            " - 41s - loss: 0.0012 - val_loss: 0.0020\n",
            "Epoch 22/25\n",
            " - 41s - loss: 0.0012 - val_loss: 0.0019\n",
            "Epoch 23/25\n",
            " - 41s - loss: 0.0011 - val_loss: 0.0019\n",
            "Epoch 24/25\n",
            " - 41s - loss: 0.0011 - val_loss: 0.0019\n",
            "Epoch 25/25\n",
            " - 41s - loss: 0.0011 - val_loss: 0.0017\n"
          ],
          "name": "stdout"
        }
      ]
    },
    {
      "cell_type": "code",
      "metadata": {
        "id": "zboWLd2FmOMS",
        "colab_type": "code",
        "colab": {
          "base_uri": "https://localhost:8080/",
          "height": 134
        },
        "outputId": "e9d50e84-9d52-4cbd-f600-84027465af39"
      },
      "source": [
        "# model.evaluate(x_test_t, y_test_t, batch_size=BATCH_SIZE\n",
        "from sklearn.metrics import mean_squared_error\n",
        "y_pred = lstm_model.predict(trim_dataset(x_test_t, BATCH_SIZE), batch_size=BATCH_SIZE)\n",
        "y_pred = y_pred.flatten()\n",
        "y_test_t = trim_dataset(y_test_t, BATCH_SIZE)\n",
        "error = mean_squared_error(y_test_t, y_pred)\n",
        "print(\"Error is\", error, y_pred.shape, y_test_t.shape)\n",
        "print(y_pred[0:15])\n",
        "print(y_test_t[0:15])"
      ],
      "execution_count": 22,
      "outputs": [
        {
          "output_type": "stream",
          "text": [
            "Error is 0.0016345549054994307 (17280,) (17280,)\n",
            "[0.16815424 0.1813268  0.1993303  0.20748359 0.21794796 0.23027208\n",
            " 0.2026026  0.1856736  0.17251346 0.1598751  0.15170068 0.13152555\n",
            " 0.13682622 0.13219717 0.14947256]\n",
            "[0.16470588 0.17647059 0.18823529 0.2        0.21176471 0.2\n",
            " 0.17647059 0.16470588 0.14117647 0.12941176 0.10588235 0.10588235\n",
            " 0.10588235 0.12941176 0.14117647]\n"
          ],
          "name": "stdout"
        }
      ]
    },
    {
      "cell_type": "code",
      "metadata": {
        "id": "iMoQXl3UmZ79",
        "colab_type": "code",
        "colab": {
          "base_uri": "https://localhost:8080/",
          "height": 84
        },
        "outputId": "fba82922-4e84-43b4-dfd6-044fc2f1491e"
      },
      "source": [
        "# convert the predicted value to range of real data\n",
        "y_pred_org = (y_pred * min_max_scaler.data_range_[9]) + min_max_scaler.data_min_[9]\n",
        "# min_max_scaler.inverse_transform(y_pred)\n",
        "y_test_t_org = (y_test_t * min_max_scaler.data_range_[9]) + min_max_scaler.data_min_[9]\n",
        "# min_max_scaler.inverse_transform(y_test_t)\n",
        "print(y_pred_org[0:15])\n",
        "print(y_test_t_org[0:15])"
      ],
      "execution_count": 23,
      "outputs": [
        {
          "output_type": "stream",
          "text": [
            "[4.3293114 4.441278  4.594308  4.6636105 4.7525578 4.8573127 4.6221223\n",
            " 4.4782257 4.3663645 4.2589383 4.189456  4.017967  4.063023  4.023676\n",
            " 4.170517 ]\n",
            "[4.3 4.4 4.5 4.6 4.7 4.6 4.4 4.3 4.1 4.  3.8 3.8 3.8 4.  4.1]\n"
          ],
          "name": "stdout"
        }
      ]
    },
    {
      "cell_type": "code",
      "metadata": {
        "id": "vtvlek8omcL_",
        "colab_type": "code",
        "colab": {
          "base_uri": "https://localhost:8080/",
          "height": 312
        },
        "outputId": "474c0989-905e-46db-ff93-e735faf2761d"
      },
      "source": [
        "# Visualize the training data\n",
        "from matplotlib import pyplot as plt\n",
        "plt.figure()\n",
        "plt.plot(history.history['loss'])\n",
        "plt.plot(history.history['val_loss'])\n",
        "plt.title('Model loss')\n",
        "plt.ylabel('Loss')\n",
        "plt.xlabel('Epoch')\n",
        "plt.legend(['Train', 'Test'], loc='upper left')\n",
        "#plt.show()"
      ],
      "execution_count": 24,
      "outputs": [
        {
          "output_type": "execute_result",
          "data": {
            "text/plain": [
              "<matplotlib.legend.Legend at 0x7f861680a128>"
            ]
          },
          "metadata": {
            "tags": []
          },
          "execution_count": 24
        },
        {
          "output_type": "display_data",
          "data": {
            "image/png": "[encoded data removed]",
            "text/plain": [
              "<Figure size 432x288 with 1 Axes>"
            ]
          },
          "metadata": {
            "tags": []
          }
        }
      ]
    },
    {
      "cell_type": "code",
      "metadata": {
        "id": "m52xOfNQmdtg",
        "colab_type": "code",
        "colab": {
          "base_uri": "https://localhost:8080/",
          "height": 782
        },
        "outputId": "1affddb3-5660-4c41-fe15-dd708bbf2964"
      },
      "source": [
        "y_pred = lstm_model.predict(trim_dataset(x_test_t, BATCH_SIZE), batch_size=BATCH_SIZE)\n",
        "y_pred = y_pred.flatten()\n",
        "#y_test_t = trim_dataset(y_test_t, BATCH_SIZE)\n",
        "error = mean_squared_error(y_test_t, y_pred)\n",
        "print(\"Error is\", error, y_pred.shape, y_test_t.shape)\n",
        "print(y_pred[0:15])\n",
        "print(y_test_t[0:15])\n",
        "y_pred_org = (y_pred * min_max_scaler.data_range_[9]) + min_max_scaler.data_min_[9] # min_max_scaler.inverse_transform(y_pred)\n",
        "y_test_t_org = (y_test_t * min_max_scaler.data_range_[9]) + min_max_scaler.data_min_[9] # min_max_scaler.inverse_transform(y_test_t)\n",
        "print(y_pred_org[100:200])\n",
        "print(y_test_t_org[100:200])\n",
        "\n",
        "# Visualize the prediction\n",
        "from matplotlib import pyplot as plt\n",
        "plt.figure()\n",
        "#plt.plot(y_test_t_org)\n",
        "#plt.plot(y_pred_org)\n",
        "\n",
        "plt.plot(y_pred_org[0:100])\n",
        "plt.plot(y_test_t_org[0:100])\n",
        "plt.plot()\n",
        "plt.title('Prediction vs Real Stock Price')\n",
        "plt.ylabel('Price')\n",
        "plt.xlabel('Days')\n",
        "plt.legend(['Prediction', 'Real'], loc='upper left')\n",
        "plt.show()\n",
        "print(\"batch_size = \",BATCH_SIZE ,\"timesteps =\",TIME_STEPS , \"lr = 0.001\",\"optimizer = Adam\", \"No of LSTM layers =2\",\"Dropout=0.4\",\"stateful=True \")"
      ],
      "execution_count": 25,
      "outputs": [
        {
          "output_type": "stream",
          "text": [
            "Error is 0.0016345549063840662 (17280,) (17280,)\n",
            "[0.16815424 0.1813268  0.1993303  0.20748359 0.21794799 0.23027208\n",
            " 0.2026026  0.1856736  0.17251346 0.15987504 0.15170068 0.13152555\n",
            " 0.13682622 0.1321972  0.14947256]\n",
            "[0.16470588 0.17647059 0.18823529 0.2        0.21176471 0.2\n",
            " 0.17647059 0.16470588 0.14117647 0.12941176 0.10588235 0.10588235\n",
            " 0.10588235 0.12941176 0.14117647]\n",
            "[5.2230625 5.28597   5.5447083 5.75959   5.821898  5.8910365 5.765313\n",
            " 5.9070425 5.735301  5.764744  5.944153  5.7442865 5.6589546 5.3435006\n",
            " 4.804855  4.281186  4.8497753 4.772757  4.6097445 4.496003  4.600361\n",
            " 4.7309694 4.647081  4.686697  4.63451   4.8244176 4.614785  4.5705876\n",
            " 4.5232573 4.5576773 4.697615  4.7987967 5.093298  4.999632  4.794785\n",
            " 4.865162  4.8725185 4.9881115 4.920193  5.097948  5.5659566 5.763682\n",
            " 5.635077  5.46184   5.273391  5.1800714 4.341108  4.297287  4.407892\n",
            " 4.412126  4.602292  4.491288  5.031589  4.5871964 4.2196    4.2461495\n",
            " 4.764226  4.7036476 5.3764763 5.592389  5.06975   4.6869316 4.0934114\n",
            " 3.8803086 4.1968107 4.0036955 4.037743  4.0518165 4.1392174 4.2313595\n",
            " 4.396528  4.7049613 4.7123156 4.656326  4.39128   4.3137774 4.3103476\n",
            " 4.451434  4.4152575 4.43358   3.9922907 3.889532  4.0378013 3.930387\n",
            " 3.8342767 3.890953  3.8693976 3.88963   3.9759874 4.133267  4.1732435\n",
            " 4.2520804 4.2138324 4.0745864 4.3541193 4.304838  4.4398737 4.342446\n",
            " 4.4429483 4.635437 ]\n",
            "[5.2 5.4 5.7 5.9 6.  5.9 5.9 5.7 5.7 5.8 5.8 5.8 5.7 5.1 4.2 4.7 4.8 4.6\n",
            " 4.4 4.5 4.6 4.5 4.5 4.4 4.6 4.5 4.4 4.3 4.3 4.5 4.6 4.9 4.9 4.7 4.7 4.7\n",
            " 4.8 4.8 4.9 5.3 5.5 5.6 5.6 5.6 5.6 4.6 4.1 4.1 4.2 4.4 4.4 4.7 4.8 4.6\n",
            " 3.9 4.4 4.6 5.1 5.3 5.2 5.1 4.4 3.6 3.9 4.1 3.7 3.8 3.9 4.  4.2 4.5 4.6\n",
            " 4.6 4.6 4.5 4.4 4.4 4.4 4.3 4.  3.6 3.7 3.7 3.5 3.6 3.6 3.6 3.7 3.9 4.\n",
            " 4.1 4.1 3.9 4.  4.  4.1 4.1 4.2 4.4 4.8]\n"
          ],
          "name": "stdout"
        },
        {
          "output_type": "display_data",
          "data": {
            "image/png": "[encoded data removed]",
            "text/plain": [
              "<Figure size 432x288 with 1 Axes>"
            ]
          },
          "metadata": {
            "tags": []
          }
        },
        {
          "output_type": "stream",
          "text": [
            "batch_size =  240 timesteps = 56 lr = 0.001 optimizer = Adam No of LSTM layers =2 Dropout=0.4 stateful=True \n"
          ],
          "name": "stdout"
        }
      ]
    },
    {
      "cell_type": "code",
      "metadata": {
        "id": "OlUH8-NGmfyk",
        "colab_type": "code",
        "colab": {
          "base_uri": "https://localhost:8080/",
          "height": 295
        },
        "outputId": "7c6b603d-2e72-445a-a75c-24a342304a8a"
      },
      "source": [
        "# Visualize the prediction\n",
        "from matplotlib import pyplot as plt\n",
        "plt.figure()\n",
        "#plt.plot(y_test_t_org)\n",
        "#plt.plot(y_pred_org)\n",
        "\n",
        "plt.plot(y_pred_org[0:100])\n",
        "plt.plot(y_test_t_org[0:100])\n",
        "plt.plot()\n",
        "plt.title('Prediction vs Real Stock Price')\n",
        "plt.ylabel('Price')\n",
        "plt.xlabel('Days')\n",
        "plt.legend(['Prediction', 'Real'], loc='upper left')\n",
        "plt.show()"
      ],
      "execution_count": 26,
      "outputs": [
        {
          "output_type": "display_data",
          "data": {
            "image/png": "[encoded data removed]",
            "text/plain": [
              "<Figure size 432x288 with 1 Axes>"
            ]
          },
          "metadata": {
            "tags": []
          }
        }
      ]
    },
    {
      "cell_type": "code",
      "metadata": {
        "id": "ugUYImFBmigd",
        "colab_type": "code",
        "colab": {
          "base_uri": "https://localhost:8080/",
          "height": 295
        },
        "outputId": "e5a3cc93-cd46-41eb-b636-50e1b8441d91"
      },
      "source": [
        "# Visualize the prediction\n",
        "from matplotlib import pyplot as plt\n",
        "plt.figure()\n",
        "#plt.plot(y_test_t_org)\n",
        "#plt.plot(y_pred_org)\n",
        "\n",
        "plt.plot(y_pred_org[0:100])\n",
        "plt.plot(y_test_t_org[0:100])\n",
        "plt.plot()\n",
        "plt.title('Prediction vs Real Stock Price')\n",
        "plt.ylabel('Price')\n",
        "plt.xlabel('Days')\n",
        "plt.legend(['Prediction', 'Real'], loc='upper left')\n",
        "plt.show()"
      ],
      "execution_count": 27,
      "outputs": [
        {
          "output_type": "display_data",
          "data": {
            "image/png": "[encoded data removed]",
            "text/plain": [
              "<Figure size 432x288 with 1 Axes>"
            ]
          },
          "metadata": {
            "tags": []
          }
        }
      ]
    },
    {
      "cell_type": "code",
      "metadata": {
        "id": "ewJGOICsmrL1",
        "colab_type": "code",
        "colab": {
          "base_uri": "https://localhost:8080/",
          "height": 286
        },
        "outputId": "c8f6182c-3e73-49cc-f13a-d449354df142"
      },
      "source": [
        "plt.figure()\n",
        "plt.plot(y_test_t - y_pred)"
      ],
      "execution_count": 28,
      "outputs": [
        {
          "output_type": "execute_result",
          "data": {
            "text/plain": [
              "[<matplotlib.lines.Line2D at 0x7f8616651710>]"
            ]
          },
          "metadata": {
            "tags": []
          },
          "execution_count": 28
        },
        {
          "output_type": "display_data",
          "data": {
            "image/png": "[encoded data removed]",
            "text/plain": [
              "<Figure size 432x288 with 1 Axes>"
            ]
          },
          "metadata": {
            "tags": []
          }
        }
      ]
    },
    {
      "cell_type": "code",
      "metadata": {
        "id": "WjgRDlTumr12",
        "colab_type": "code",
        "colab": {
          "base_uri": "https://localhost:8080/",
          "height": 84
        },
        "outputId": "d1390e3c-c9e7-4d06-e990-68deb09611de"
      },
      "source": [
        "print(max(y_test_t - y_pred))\n",
        "print(min(y_test_t - y_pred))\n",
        "print(type(y_test_t - y_pred))\n",
        "print(np.mean(y_test_t - y_pred))"
      ],
      "execution_count": 29,
      "outputs": [
        {
          "output_type": "stream",
          "text": [
            "0.282709996840533\n",
            "-0.2836093152270598\n",
            "<class 'numpy.ndarray'>\n",
            "-0.014939759239688334\n"
          ],
          "name": "stdout"
        }
      ]
    },
    {
      "cell_type": "code",
      "metadata": {
        "id": "W-y7oRDCmuDD",
        "colab_type": "code",
        "colab": {}
      },
      "source": [
        ""
      ],
      "execution_count": 0,
      "outputs": []
    }
  ]
}